{
 "cells": [
  {
   "cell_type": "code",
   "execution_count": 1,
   "metadata": {},
   "outputs": [
    {
     "name": "stdout",
     "output_type": "stream",
     "text": [
      "Collecting faker\n",
      "  Downloading Faker-30.1.0-py3-none-any.whl.metadata (15 kB)\n",
      "Requirement already satisfied: pandas in /workspace/.pyenv_mirror/user/current/lib/python3.12/site-packages (2.2.3)\n",
      "Requirement already satisfied: numpy in /workspace/.pyenv_mirror/user/current/lib/python3.12/site-packages (2.1.1)\n",
      "Requirement already satisfied: python-dateutil>=2.4 in /home/gitpod/.pyenv/versions/3.12.6/lib/python3.12/site-packages (from faker) (2.9.0.post0)\n",
      "Requirement already satisfied: typing-extensions in /home/gitpod/.pyenv/versions/3.12.6/lib/python3.12/site-packages (from faker) (4.12.2)\n",
      "Requirement already satisfied: pytz>=2020.1 in /workspace/.pyenv_mirror/user/current/lib/python3.12/site-packages (from pandas) (2024.2)\n",
      "Requirement already satisfied: tzdata>=2022.7 in /workspace/.pyenv_mirror/user/current/lib/python3.12/site-packages (from pandas) (2024.2)\n",
      "Requirement already satisfied: six>=1.5 in /home/gitpod/.pyenv/versions/3.12.6/lib/python3.12/site-packages (from python-dateutil>=2.4->faker) (1.16.0)\n",
      "Downloading Faker-30.1.0-py3-none-any.whl (1.8 MB)\n",
      "\u001b[2K   \u001b[90m━━━━━━━━━━━━━━━━━━━━━━━━━━━━━━━━━━━━━━━━\u001b[0m \u001b[32m1.8/1.8 MB\u001b[0m \u001b[31m67.3 MB/s\u001b[0m eta \u001b[36m0:00:00\u001b[0m\n",
      "\u001b[?25hInstalling collected packages: faker\n",
      "Successfully installed faker-30.1.0\n",
      "Note: you may need to restart the kernel to use updated packages.\n"
     ]
    }
   ],
   "source": [
    "pip install faker pandas numpy\n"
   ]
  },
  {
   "cell_type": "code",
   "execution_count": 2,
   "metadata": {},
   "outputs": [],
   "source": [
    "import random\n",
    "import pandas as pd\n",
    "from faker import Faker\n",
    "import numpy as np\n",
    "\n",
    "# Initialize Faker\n",
    "fake = Faker()\n",
    "Faker.seed(42)\n",
    "np.random.seed(42)\n",
    "\n",
    "# Parameters for the dataset\n",
    "NUM_STUDENTS = 1000\n",
    "NUM_SUBJECTS = 5\n",
    "\n",
    "# Example subjects and extra-curricular activities\n",
    "subjects = ['Mathematics', 'Science', 'English', 'Social Studies', 'Physical Education']\n",
    "activities = ['Football', 'Drama', 'Music', 'Art', 'Debate','Science','Chess','None']\n",
    "nigeria_states = [\n",
    "    \"Abia\", \"Adamawa\", \"Akwa Ibom\", \"Anambra\", \"Bauchi\", \"Bayelsa\", \"Benue\",\n",
    "    \"Borno\", \"Cross River\", \"Delta\", \"Ebonyi\", \"Edo\", \"Ekiti\", \"Enugu\", \"Gombe\",\n",
    "    \"Imo\", \"Jigawa\", \"Kaduna\", \"Kano\", \"Katsina\", \"Kebbi\", \"Kogi\", \"Kwara\",\n",
    "    \"Lagos\", \"Nasarawa\", \"Niger\", \"Ogun\", \"Ondo\", \"Osun\", \"Oyo\", \"Plateau\",\n",
    "    \"Rivers\", \"Sokoto\", \"Taraba\", \"Yobe\", \"Zamfara\", \"FCT\"\n",
    "]\n",
    "\n",
    "# Helper functions\n",
    "def generate_student_bio_data():\n",
    "    return {\n",
    "        'Student ID': fake.unique.uuid4(),\n",
    "        'First Name': fake.first_name(),\n",
    "        'Last Name': fake.last_name(),\n",
    "        'Gender': random.choice(['Male', 'Female']),\n",
    "        'Age': random.randint(5, 18),\n",
    "        'State': random.choice(nigeria_states),\n",
    "        'City': fake.city(),\n",
    "        'School': fake.company_suffix(),\n",
    "        'Enrollment Date': fake.date_this_decade(),\n",
    "        'Grade Level': random.randint(1, 12)\n",
    "    }\n",
    "\n",
    "def generate_parents_demographic_data():\n",
    "    return {\n",
    "        'Parent Name': fake.name(),\n",
    "        'Parent Occupation': fake.job(),\n",
    "        'Household Income (NGN)': random.randint(100000, 20000000),\n",
    "        'Parent Education Level': random.choice(['Primary', 'Secondary', 'Tertiary', 'None']),\n",
    "        'Household Size': random.randint(3, 10)\n",
    "    }\n",
    "\n",
    "def generate_resource_allocation_data():\n",
    "    return {\n",
    "        'Library Hours per Week': random.randint(2, 10),\n",
    "        'Teacher-Student Ratio': round(random.uniform(1/30, 1/10), 2),  # Teacher per student ratio\n",
    "        'Allocated Teacher Hours': random.randint(15, 40)\n",
    "    }\n",
    "\n",
    "def generate_extra_curricular_data():\n",
    "    return {\n",
    "        'Extra-Curricular Activity': random.choice(activities),\n",
    "        'Weekly Hours in Activity': random.randint(1, 5)\n",
    "    }\n",
    "\n",
    "def generate_historical_performance_data():\n",
    "    return {\n",
    "        subject: round(random.uniform(40, 100), 0) for subject in subjects\n",
    "    }\n",
    "\n",
    "# Generate the dataset\n",
    "data = []\n",
    "for _ in range(NUM_STUDENTS):\n",
    "    student_data = generate_student_bio_data()\n",
    "    parent_data = generate_parents_demographic_data()\n",
    "    resource_data = generate_resource_allocation_data()\n",
    "    extra_curricular_data = generate_extra_curricular_data()\n",
    "    performance_data = generate_historical_performance_data()\n",
    "    \n",
    "    # Combine all the generated data into a single record\n",
    "    combined_data = {**student_data, **parent_data, **resource_data, **extra_curricular_data, **performance_data}\n",
    "    \n",
    "    data.append(combined_data)\n",
    "\n",
    "# Create a DataFrame from the generated data\n",
    "df = pd.DataFrame(data)\n",
    "\n",
    "# Display the first few rows of the dataset\n",
    "df.to_csv('fake.csv')\n"
   ]
  },
  {
   "cell_type": "code",
   "execution_count": 6,
   "metadata": {},
   "outputs": [
    {
     "data": {
      "text/plain": [
       "{'Student ID': '9fe0a8c7-fc8d-4b93-a2a2-e91fa49b1cd9',\n",
       " 'First Name': 'Marcus',\n",
       " 'Last Name': 'Maddox',\n",
       " 'Gender': 'Female',\n",
       " 'Age': 14,\n",
       " 'State': 'Nasarawa',\n",
       " 'City': 'Edwardland',\n",
       " 'School': 'Group',\n",
       " 'Enrollment Date': datetime.date(2022, 2, 6),\n",
       " 'Grade Level': 7}"
      ]
     },
     "execution_count": 6,
     "metadata": {},
     "output_type": "execute_result"
    }
   ],
   "source": [
    "student_data"
   ]
  }
 ],
 "metadata": {
  "language_info": {
   "name": "python"
  }
 },
 "nbformat": 4,
 "nbformat_minor": 2
}
